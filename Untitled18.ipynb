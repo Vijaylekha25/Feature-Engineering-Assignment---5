{
 "cells": [
  {
   "cell_type": "markdown",
   "id": "5775acfc-d76d-4243-97f2-1d64529d1e37",
   "metadata": {},
   "source": [
    "Q1. What is the difference between Ordinal Encoding and Label Encoding? Provide an example of when you\n",
    "might choose one over the other."
   ]
  },
  {
   "cell_type": "markdown",
   "id": "4b691c6c-b028-43ce-a202-c7c318e21dce",
   "metadata": {},
   "source": [
    "Answer-The difference between Ordinal Encoding and Label Encoding lies in their application and the nature of the categorical variables being encoded.\n",
    "\n",
    "Ordinal Encoding: Involves assigning a numerical value to each category in a categorical variable based on some predefined order or hierarchy. This encoding assumes that there is a meaningful order or ranking among the categories.\n",
    "Example: Consider a variable \"Education Level\" with categories {\"High School\", \"Bachelor's\", \"Master's\", \"PhD\"}. Ordinal encoding might assign values {0, 1, 2, 3} respectively, reflecting the increasing level of education.\n",
    "\n",
    "Label Encoding: Involves assigning a unique numerical value to each category in a categorical variable without assuming any particular order or ranking among the categories.\n",
    "Example: Consider a variable \"Color\" with categories {\"red\", \"green\", \"blue\"}. Label encoding might assign values {0, 1, 2} respectively, without implying any order among the colors.\n",
    "\n",
    "You might choose Ordinal Encoding when there is a clear order or ranking among the categories that you want to capture in the encoding. On the other hand, you would choose Label Encoding when there is no inherent order among the categories, or when the order is not important for the analysis."
   ]
  },
  {
   "cell_type": "markdown",
   "id": "32e538c0-1cd9-4433-b2ca-1d9eb1910e0f",
   "metadata": {},
   "source": [
    "Q2. Explain how Target Guided Ordinal Encoding works and provide an example of when you might use it in\n",
    "a machine learning project."
   ]
  },
  {
   "cell_type": "markdown",
   "id": "b6aff8ac-e6b0-4b22-9c94-04ae6d620e41",
   "metadata": {},
   "source": [
    "Answer- Target Guided Ordinal Encoding is a technique where the categories of a categorical variable are ranked based on the target variable's mean or median. It assigns ordinal labels to categories in a way that captures the relationship between the categories and the target variable.\n",
    "\n",
    "Example: In a machine learning project for predicting customer churn, we can use Target Guided Ordinal Encoding to rank the categories of a feature like \"Education Level\" based on the average churn rate for each category. This would assign higher labels to categories associated with higher churn rates, capturing the trend observed in the data."
   ]
  },
  {
   "cell_type": "markdown",
   "id": "49b9297d-e586-4555-a8a0-64a39b641156",
   "metadata": {},
   "source": [
    "Q3. Define covariance and explain why it is important in statistical analysis. How is covariance calculated?"
   ]
  },
  {
   "cell_type": "markdown",
   "id": "a3cd838e-f018-477b-b4d6-f39545875e20",
   "metadata": {},
   "source": [
    " Covariance is a measure of the extent to which two variables change together. It indicates the direction of the linear relationship between two variables. A positive covariance indicates a direct relationship (as one variable increases, the other tends to increase), while a negative covariance indicates an inverse relationship (as one variable increases, the other tends to decrease).\n",
    "\n",
    "Covariance is important in statistical analysis because it helps in understanding the relationship between variables and can be used to determine how changes in one variable are associated with changes in another variable.\n",
    "\n",
    "Covariance is calculated using the formula:\n",
    "\n",
    "cov\n",
    "(\n",
    ",\n",
    ")\n",
    "=\n",
    "1\n",
    "∑\n",
    "=\n",
    "1\n",
    "(\n",
    "−\n",
    "ˉ\n",
    ")\n",
    "(\n",
    "−\n",
    "ˉ\n",
    ")\n",
    "cov(X,Y)= \n",
    "n\n",
    "1\n",
    "​\n",
    " ∑ \n",
    "i=1\n",
    "n\n",
    "​\n",
    " (x \n",
    "i\n",
    "​\n",
    " − \n",
    "x\n",
    "ˉ\n",
    " )(y \n",
    "i\n",
    "​\n",
    " − \n",
    "y\n",
    "ˉ\n",
    "​\n",
    " )\n",
    "\n",
    "Where:\n",
    "X and \n",
    "Y are the variables.\n",
    "x \n",
    "i\n",
    "​\n",
    "  and \n",
    "y \n",
    "i\n",
    "​\n",
    "  are individual data points.\n",
    "ˉ\n",
    "x\n",
    "ˉ\n",
    "  and \n",
    "ˉ\n",
    "y\n",
    "ˉ\n",
    "​\n",
    "  are the means of \n",
    "X and \n",
    "Y respectively.\n",
    "n is the number of data points."
   ]
  },
  {
   "cell_type": "markdown",
   "id": "1a2b17d6-a947-4e04-b039-26cf1fb50ff7",
   "metadata": {},
   "source": [
    "Q4. For a dataset with the following categorical variables: Color (red, green, blue), Size (small, medium,\n",
    "large), and Material (wood, metal, plastic), perform label encoding using Python's scikit-learn library.\n",
    "Show your code and explain the output."
   ]
  },
  {
   "cell_type": "code",
   "execution_count": 1,
   "id": "dfe99db3-32ad-4b8b-bbbf-3ef18da0a204",
   "metadata": {},
   "outputs": [
    {
     "ename": "ModuleNotFoundError",
     "evalue": "No module named 'sklearn'",
     "output_type": "error",
     "traceback": [
      "\u001b[1;31m---------------------------------------------------------------------------\u001b[0m",
      "\u001b[1;31mModuleNotFoundError\u001b[0m                       Traceback (most recent call last)",
      "Cell \u001b[1;32mIn[1], line 1\u001b[0m\n\u001b[1;32m----> 1\u001b[0m \u001b[38;5;28;01mfrom\u001b[39;00m \u001b[38;5;21;01msklearn\u001b[39;00m\u001b[38;5;21;01m.\u001b[39;00m\u001b[38;5;21;01mpreprocessing\u001b[39;00m \u001b[38;5;28;01mimport\u001b[39;00m LabelEncoder\n\u001b[0;32m      3\u001b[0m \u001b[38;5;66;03m# Create dataset\u001b[39;00m\n\u001b[0;32m      4\u001b[0m data \u001b[38;5;241m=\u001b[39m {\u001b[38;5;124m'\u001b[39m\u001b[38;5;124mColor\u001b[39m\u001b[38;5;124m'\u001b[39m: [\u001b[38;5;124m'\u001b[39m\u001b[38;5;124mred\u001b[39m\u001b[38;5;124m'\u001b[39m, \u001b[38;5;124m'\u001b[39m\u001b[38;5;124mgreen\u001b[39m\u001b[38;5;124m'\u001b[39m, \u001b[38;5;124m'\u001b[39m\u001b[38;5;124mblue\u001b[39m\u001b[38;5;124m'\u001b[39m, \u001b[38;5;124m'\u001b[39m\u001b[38;5;124mred\u001b[39m\u001b[38;5;124m'\u001b[39m, \u001b[38;5;124m'\u001b[39m\u001b[38;5;124mgreen\u001b[39m\u001b[38;5;124m'\u001b[39m],\n\u001b[0;32m      5\u001b[0m         \u001b[38;5;124m'\u001b[39m\u001b[38;5;124mSize\u001b[39m\u001b[38;5;124m'\u001b[39m: [\u001b[38;5;124m'\u001b[39m\u001b[38;5;124msmall\u001b[39m\u001b[38;5;124m'\u001b[39m, \u001b[38;5;124m'\u001b[39m\u001b[38;5;124mmedium\u001b[39m\u001b[38;5;124m'\u001b[39m, \u001b[38;5;124m'\u001b[39m\u001b[38;5;124mlarge\u001b[39m\u001b[38;5;124m'\u001b[39m, \u001b[38;5;124m'\u001b[39m\u001b[38;5;124msmall\u001b[39m\u001b[38;5;124m'\u001b[39m, \u001b[38;5;124m'\u001b[39m\u001b[38;5;124mmedium\u001b[39m\u001b[38;5;124m'\u001b[39m],\n\u001b[0;32m      6\u001b[0m         \u001b[38;5;124m'\u001b[39m\u001b[38;5;124mMaterial\u001b[39m\u001b[38;5;124m'\u001b[39m: [\u001b[38;5;124m'\u001b[39m\u001b[38;5;124mwood\u001b[39m\u001b[38;5;124m'\u001b[39m, \u001b[38;5;124m'\u001b[39m\u001b[38;5;124mmetal\u001b[39m\u001b[38;5;124m'\u001b[39m, \u001b[38;5;124m'\u001b[39m\u001b[38;5;124mplastic\u001b[39m\u001b[38;5;124m'\u001b[39m, \u001b[38;5;124m'\u001b[39m\u001b[38;5;124mmetal\u001b[39m\u001b[38;5;124m'\u001b[39m, \u001b[38;5;124m'\u001b[39m\u001b[38;5;124mplastic\u001b[39m\u001b[38;5;124m'\u001b[39m]}\n",
      "\u001b[1;31mModuleNotFoundError\u001b[0m: No module named 'sklearn'"
     ]
    }
   ],
   "source": [
    "from sklearn.preprocessing import LabelEncoder\n",
    "\n",
    "# Create dataset\n",
    "data = {'Color': ['red', 'green', 'blue', 'red', 'green'],\n",
    "        'Size': ['small', 'medium', 'large', 'small', 'medium'],\n",
    "        'Material': ['wood', 'metal', 'plastic', 'metal', 'plastic']}\n",
    "\n",
    "# Initialize LabelEncoder\n",
    "label_encoder = LabelEncoder()\n",
    "\n",
    "# Apply label encoding to each column\n",
    "for col in data.columns:\n",
    "    data[col + '_encoded'] = label_encoder.fit_transform(data[col])\n",
    "\n",
    "print(data)"
   ]
  },
  {
   "cell_type": "markdown",
   "id": "231d26fa-51f9-4dcc-8c32-11273c32fd2f",
   "metadata": {},
   "source": [
    "Q5. Calculate the covariance matrix for the following variables in a dataset: Age, Income, and Education\n",
    "level. Interpret the results."
   ]
  },
  {
   "cell_type": "markdown",
   "id": "b30b25d6-6650-4d9d-a6d5-11553816dc47",
   "metadata": {},
   "source": [
    ". Calculating the covariance matrix for Age, Income, and Education level:\n",
    "\n",
    "[\n",
    "cov\n",
    "(\n",
    ",\n",
    ")\n",
    "cov\n",
    "(\n",
    ",\n",
    ")\n",
    "cov\n",
    "(\n",
    "\n",
    ")\n",
    "cov\n",
    "(\n",
    ",\n",
    ")\n",
    "cov\n",
    "(\n",
    ",\n",
    ")\n",
    "cov\n",
    "(\n",
    ")\n",
    ",\n",
    ")\n",
    "cov\n",
    "(\n",
    ",\n",
    "\n",
    ")\n",
    "]\n",
    "⎣\n",
    "⎡\n",
    "​\n",
    "  \n",
    "cov(Age,Age)\n",
    "cov(Income,Age)\n",
    "cov(Education,Age)\n",
    "​\n",
    "  \n",
    "cov(Age,Income)\n",
    "cov(Income,Income)\n",
    "cov(Education,Income)\n",
    "​\n",
    "  \n",
    "cov(Age,Education)\n",
    "cov(Income,Education)\n",
    "cov(Education,Education)\n",
    "​\n",
    "  \n",
    "⎦\n",
    "⎤\n",
    "​\n",
    " \n",
    "Interpretation: The covariance matrix shows the covariance between each pair of variables. A positive value indicates a direct relationship, while a negative value indicates an inverse relationship. A value close to zero suggests little to no relationship."
   ]
  },
  {
   "cell_type": "markdown",
   "id": "ec3a7400-1082-4542-aa9d-0e1816d3a1cb",
   "metadata": {},
   "source": [
    "Q6. You are working on a machine learning project with a dataset containing several categorical\n",
    "variables, including \"Gender\" (Male/Female), \"Education Level\" (High School/Bachelor's/Master's/PhD),\n",
    "and \"Employment Status\" (Unemployed/Part-Time/Full-Time). Which encoding method would you use for\n",
    "each variable, and why?"
   ]
  },
  {
   "cell_type": "code",
   "execution_count": null,
   "id": "f2af11c1-004d-4c44-b8be-0806361f6467",
   "metadata": {},
   "outputs": [],
   "source": []
  },
  {
   "cell_type": "markdown",
   "id": "d455ba12-8517-40ac-b430-60852c52de2f",
   "metadata": {},
   "source": [
    "Q7. You are analyzing a dataset with two continuous variables, \"Temperature\" and \"Humidity\", and two\n",
    "categorical variables, \"Weather Condition\" (Sunny/Cloudy/Rainy) and \"Wind Direction\" (North/South/\n",
    "East/West). Calculate the covariance between each pair of variables and interpret the results."
   ]
  },
  {
   "cell_type": "code",
   "execution_count": null,
   "id": "de240a5e-1960-4a28-b115-4e9f85ea955b",
   "metadata": {},
   "outputs": [],
   "source": []
  },
  {
   "cell_type": "code",
   "execution_count": null,
   "id": "6155b7a4-8283-4cbc-8d02-acdfb88391ca",
   "metadata": {},
   "outputs": [],
   "source": []
  },
  {
   "cell_type": "code",
   "execution_count": null,
   "id": "aee598be-532e-4e13-a176-85c49ae07774",
   "metadata": {},
   "outputs": [],
   "source": []
  },
  {
   "cell_type": "code",
   "execution_count": null,
   "id": "1f5b1d4d-f06d-4df8-9ec0-e0aed72f28d6",
   "metadata": {},
   "outputs": [],
   "source": []
  },
  {
   "cell_type": "code",
   "execution_count": null,
   "id": "3b4f6d56-1561-4e50-920e-66ed874f2d1f",
   "metadata": {},
   "outputs": [],
   "source": []
  }
 ],
 "metadata": {
  "kernelspec": {
   "display_name": "Python 3 (ipykernel)",
   "language": "python",
   "name": "python3"
  },
  "language_info": {
   "codemirror_mode": {
    "name": "ipython",
    "version": 3
   },
   "file_extension": ".py",
   "mimetype": "text/x-python",
   "name": "python",
   "nbconvert_exporter": "python",
   "pygments_lexer": "ipython3",
   "version": "3.12.2"
  }
 },
 "nbformat": 4,
 "nbformat_minor": 5
}
